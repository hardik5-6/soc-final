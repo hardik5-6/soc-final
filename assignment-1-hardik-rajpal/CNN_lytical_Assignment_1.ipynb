{
 "cells": [
  {
   "cell_type": "markdown",
   "metadata": {
    "id": "RksWtNuHg9Rb"
   },
   "source": [
    "# CNN-lytical Assignment-1\n",
    "*  In this assignment, we will build a classifier for MNIST from scratch using just [NumPy](https://numpy.org/)\n",
    "\n",
    "*  [MNIST](http://yann.lecun.com/exdb/mnist/) dataset contains images of handwritten digits of size 28x28\n",
    "\n",
    "*  The dataset that you are expected to use for training can be found [here](https://drive.google.com/file/d/1z7lwIml6UxsNpDIW3_mPPEb8SoaPC5Zg/view)\n",
    "\n",
    "*   Our model will have 1 hidden layer, like the one below (not our recommendation to use 256 in the hidden layer though, try various values out)\n",
    "\n",
    "**Feel free to redefine any function signatures below, just make sure the final cell remains the same.**\n",
    "\n",
    "<center>\n",
    "<img src=\"https://user-images.githubusercontent.com/81357954/166119893-4ca347b8-b1a4-40b8-9e0a-2e92b5f164ae.png\">\n",
    "</center>"
   ]
  },
  {
   "cell_type": "markdown",
   "metadata": {
    "id": "UyOAG55siwdI"
   },
   "source": [
    "## Import libraries here\n",
    "NumPy, Matplotlib, ...\n",
    "\n",
    "Also remember to initialize the seed for reproducibility of results"
   ]
  },
  {
   "cell_type": "code",
   "execution_count": 1,
   "metadata": {
    "id": "7iVUsRLxjAb9"
   },
   "outputs": [],
   "source": [
    "import numpy as np\n",
    "import matplotlib.pyplot as plt\n",
    "np.random.seed(0)"
   ]
  },
  {
   "cell_type": "markdown",
   "metadata": {
    "id": "HaLDC4wN0eQs"
   },
   "source": [
    "## Load *Dataset*\n",
    "Load data from the given pickle file"
   ]
  },
  {
   "cell_type": "code",
   "execution_count": 2,
   "metadata": {
    "id": "6qOjNSmx0iUn"
   },
   "outputs": [
    {
     "name": "stdout",
     "output_type": "stream",
     "text": [
      "[ 968 1104 1022  989 1011  919  994 1046  992  955]\n"
     ]
    }
   ],
   "source": [
    "# mount Google Drive to access the dataset\n",
    "import pickle\n",
    "# load the data set\n",
    "pklData = pickle.load(open('./train_data.pkl', 'rb'))\n",
    "def normalize(X:np.ndarray):\n",
    "    # print(X.shape)\n",
    "    mean = np.average(X,axis=1).reshape(X.shape[0],1)\n",
    "    # print(mean.shape)\n",
    "    X = X-mean\n",
    "    std=np.std(X,axis=1).reshape(X.shape[0],1)\n",
    "    # print(std.shape)\n",
    "    X = X/std\n",
    "    # print(X[0])\n",
    "    return X\n",
    "def standardize(X:np.ndarray):\n",
    "    minvals = np.min(X,axis=1).reshape(X.shape[0],1)\n",
    "    maxvals = np.max(X,axis=1).reshape(X.shape[0],1)\n",
    "    X = (X-minvals)/(0.0001+maxvals-minvals)\n",
    "    return X\n",
    "X = np.array(pklData['X'])\n",
    "y = np.array(pklData['y'])\n",
    "X = normalize(X)\n",
    "\n",
    "# TODO:update training set, testing set size so total = 60k\n",
    "k = 100\n",
    "X_train = X[:10000]\n",
    "Y_train = y[:10000]\n",
    "\n",
    "# print(Y_train.shape)\n",
    "print(np.unique(Y_train,return_counts=True)[1])\n",
    "X_test = X[k:2*k]\n",
    "Y_test = y[k:2*k]\n",
    "hidLaySize = 256\n",
    "numDigs = 10\n",
    "# Split into X_train, y_train, X_test, y_test\n",
    "# you can use stratified splitting from sklearn library\n"
   ]
  },
  {
   "cell_type": "code",
   "execution_count": 3,
   "metadata": {
    "id": "id77Oqc90kTf"
   },
   "outputs": [
    {
     "name": "stderr",
     "output_type": "stream",
     "text": [
      "c:\\Users\\HARDIK RAJPAL\\AppData\\Local\\Programs\\Python\\Python310\\lib\\site-packages\\matplotlib\\text.py:1223: FutureWarning: elementwise comparison failed; returning scalar instead, but in the future will perform elementwise comparison\n",
      "  if s != self._text:\n"
     ]
    },
    {
     "data": {
      "image/png": "[encoded data removed]",
      "text/plain": [
       "<Figure size 432x288 with 16 Axes>"
      ]
     },
     "metadata": {},
     "output_type": "display_data"
    }
   ],
   "source": [
    "# display a 4x4 grid, \n",
    "# choose 16 images randomly, display the images as well as corresponding labels\n",
    "selection = np.random.choice(np.arange(X_train.shape[0]),size=16)\n",
    "selImages = X_train[selection]\n",
    "selLabels = Y_train[selection]\n",
    "fig,axs = plt.subplots(4,4)\n",
    "fig.tight_layout()\n",
    "from typing import List\n",
    "# axs:List[plt.Axes]\n",
    "# axs[0].imshow()\n",
    "for i in range(4):\n",
    "    for j in range(4):\n",
    "        axs[i,j].set_xticks([])\n",
    "        axs[i,j].set_yticks([])\n",
    "        axs[i,j].imshow(selImages[4*i+j].reshape(28,28),cmap='gray',vmin=-1,vmax=1)\n",
    "        axs[i,j].set_title(selLabels[4*i+j])\n",
    "plt.show()"
   ]
  },
  {
   "cell_type": "markdown",
   "metadata": {
    "id": "VFYnsPVLmsiW"
   },
   "source": [
    "## Building up parts of our classifier"
   ]
  },
  {
   "cell_type": "markdown",
   "metadata": {
    "id": "wAsGtgxUpGh2"
   },
   "source": [
    "**Activation functions**"
   ]
  },
  {
   "cell_type": "code",
   "execution_count": 4,
   "metadata": {
    "id": "6Di5Ck47msCQ"
   },
   "outputs": [],
   "source": [
    "def relu(z:np.ndarray):\n",
    "    negz = z < 0;ans = z.copy()\n",
    "    ans[negz] = 0\n",
    "    return ans\n",
    "def sigmoid(z:np.ndarray):\n",
    "    return 1/(1 + np.exp(-z))\n",
    "def sigmoid_derivative(z:np.ndarray):\n",
    "    return sigmoid(z)*(1-sigmoid(z))\n",
    "def softmax(z:np.ndarray):\n",
    "    b = np.exp(z)\n",
    "    b = b/np.sum(b)\n",
    "    # np.apply_along_axis(lambda y: print(np.sum(y)),1,b)\n",
    "    return b"
   ]
  },
  {
   "cell_type": "markdown",
   "metadata": {
    "id": "G-q5HJHIocdn"
   },
   "source": [
    "**Notes about the Neural Network** \n",
    "*   Input size is (784,) because 28x28 = 784\n",
    "*   Output size will be 10, each element represeting probability of the image representing that digit\n",
    "*   Size of the hidden layer is a hyperparameter\n",
    "\n"
   ]
  },
  {
   "cell_type": "markdown",
   "metadata": {
    "id": "azTAuS5spFcz"
   },
   "source": [
    "**Initialize the layers weights**\n",
    "\n",
    "Generally, we follow the convention that weights are drawn from a standard normal distribution, while the bias vectors are initialized to zero. But you can try everything out :)"
   ]
  },
  {
   "cell_type": "code",
   "execution_count": 5,
   "metadata": {
    "id": "38E3_hVPocMm"
   },
   "outputs": [],
   "source": [
    "def init_params(sizeList):\n",
    "    return [np.random.normal(0,1,size=size) for size in sizeList]\n",
    "def init_bias(sizeList):\n",
    "    # return [np.random.normal(0,1,size=size) for size in sizeList]\n",
    "    return [np.zeros(size) for size in sizeList]"
   ]
  },
  {
   "cell_type": "markdown",
   "metadata": {
    "id": "UlX8zy-7pv2n"
   },
   "source": [
    "**Forward Propagation**"
   ]
  },
  {
   "cell_type": "code",
   "execution_count": 6,
   "metadata": {
    "id": "TJ8lgrqjjASz"
   },
   "outputs": [],
   "source": [
    "\n",
    "def forward_propg(X:np.ndarray, weights:List[np.ndarray],biases:List[np.ndarray]):\n",
    "    \"X is a list of images of size 784\"\n",
    "    \"X.shape = (N,784)\"\n",
    "    \"weights[0].shape = (hls,784)\"\n",
    "    \"biases[0].shape = (hls)\"\n",
    "    \"z1.shape = (N,hls)\"\n",
    "    \"weights[1].shape = (10, hls)\"\n",
    "    \"biases[1].shape = (10)\"\n",
    "    hls = weights[0].shape[0]\n",
    "    actFunc = relu\n",
    "    actFunc2 = sigmoid\n",
    "    z1 = np.matmul(X,weights[0].transpose())\n",
    "    z1 = z1 + biases[0]\n",
    "    \"z1.shape = (N,hls)\"\n",
    "    #doubt: batch normalization?\n",
    "    a1 = actFunc(z1)\n",
    "    a1 = standardize(a1)\n",
    "    #N,hls = (N,784)x(hls,784)\n",
    "    z2 = np.matmul(a1, weights[1].transpose())\n",
    "    z2 = z2+ biases[1]\n",
    "    a2 = actFunc(z2)\n",
    "    a2 = standardize(a2)\n",
    "    probs = standardize(np.apply_along_axis(\n",
    "        lambda y:(y+1)/np.sum(y+1),\n",
    "        1,\n",
    "        a2\n",
    "    ))\n",
    "    \"a2.shape = (N,10)\"\n",
    "    # print(1.000001-a2)\n",
    "    logits = np.vectorize(lambda x:np.log(abs(x/(1.001-x))))(a2)\n",
    "    \"\"\"\n",
    "    X: input data\n",
    "    returns: logits, output of each layer z1,z2,\n",
    "    activation of each layer: a1,a2\n",
    "    \"\"\"\n",
    "    return logits,z1,z2,a1,a2,probs\n"
   ]
  },
  {
   "cell_type": "markdown",
   "metadata": {
    "id": "asZmbRVvuy5x"
   },
   "source": [
    "**Backward Propagation**\n",
    "\n",
    "\n",
    "You may use stochastic gradient descent or batch gradient descent here. Feel free to use any loss function."
   ]
  },
  {
   "cell_type": "code",
   "execution_count": 7,
   "metadata": {
    "id": "kAmrTAlimjUN"
   },
   "outputs": [],
   "source": [
    "def backward_propg(weights, biases,X, yscores, outputs,lr):\n",
    "    \"X.shape = (N,784)\"\n",
    "    \"yscores.shape = (N,10): true labels\"\n",
    "    \"outputs = [z1,a1,z2,a2]:\"\n",
    "    \"z2.shape = (N,10)\"\n",
    "    \"z1.shape = (N,hls)\"\n",
    "    \"biases[0] = (hls)\"\n",
    "    \"biases[1] = (10)\"\n",
    "    \"weights[0] = (hls,784)\"\n",
    "    \"weights[1] = (10,hls)\"\n",
    "    N = X.shape[0];z1,a1,z2,a2 = outputs;hls = weights[0].shape[0]\n",
    "    # a2diffy = (a2-yscores)*sigmoid_derivative(z2)\n",
    "    a2diffy = (a2-yscores)\n",
    "\n",
    "    #               10xN,Nxh\n",
    "    dwo = (2/N)*np.matmul(a2diffy.transpose(),a1)\n",
    "    weights[1]-=lr*dwo\n",
    "    biases[1]-=np.average(a2diffy,axis=0)\n",
    "    dEseps = (2/10)*np.matmul(a2diffy,weights[1])\n",
    "    #Nx10  10xh\n",
    "    #Nxh\n",
    "                    # hx784 = hxN x Nx784\n",
    "    dwh = np.matmul(dEseps.transpose(),X)/X.shape[0]\n",
    "    weights[0]-=lr*(dwh)\n",
    "    biases[0]-=lr*(np.average(dEseps,axis=0))\n",
    "    return weights,biases"
   ]
  },
  {
   "cell_type": "code",
   "execution_count": 8,
   "metadata": {
    "id": "cVDz0IGnvzpe"
   },
   "outputs": [],
   "source": [
    "def cost_func(scores:np.ndarray,y:np.ndarray,params):\n",
    "    \"scores: (N,10)\"\n",
    "    \"y: (N,10)\"\n",
    "    N = scores.shape[0]\n",
    "    # print(scores.shape,y.shape)\n",
    "    #correct the loss function\n",
    "    diff = (scores-y)**2\n",
    "    losses = np.apply_along_axis(\n",
    "        lambda x:np.sum(diff[x],axis=1),\n",
    "        0,\n",
    "        np.arange(N)\n",
    "    )\n",
    "    \"losses.shape = (N,1)\"\n",
    "    # print(f\"losses shape:{losses.shape}\")\n",
    "    dataLoss = np.average(losses)\n",
    "    \"\"\"\n",
    "    calculate loss to check whether it is decreasing at each epoch or not\n",
    "    one can return this in backward propagation as well\n",
    "    \"\"\"\n",
    "    return dataLoss,losses\n",
    "def accuracy(predictions, y:np.ndarray):\n",
    "    y=y.flatten()\n",
    "    # print(predictions.shape,y.shape)\n",
    "    # print(np.where(predictions==y)[0])\n",
    "    # print(np.where(predictions==y)[0].shape,y.shape[0])\n",
    "    return np.round(100*np.where(predictions==y)[0].shape[0]/y.shape[0],2)"
   ]
  },
  {
   "cell_type": "markdown",
   "metadata": {
    "id": "GUlhpcs9ylOX"
   },
   "source": [
    "\n",
    "## Integrate everything"
   ]
  },
  {
   "cell_type": "code",
   "execution_count": 9,
   "metadata": {
    "id": "SDGdT7PVmjRU"
   },
   "outputs": [
    {
     "name": "stderr",
     "output_type": "stream",
     "text": [
      "C:\\Users\\HARDIK RAJPAL\\AppData\\Local\\Temp\\ipykernel_3916\\3607970557.py:44: RuntimeWarning: divide by zero encountered in log\n",
      "  logits = np.vectorize(lambda x:np.log(abs(x/(1.001-x))))(a2)\n",
      "c:\\Users\\HARDIK RAJPAL\\AppData\\Local\\Programs\\Python\\Python310\\lib\\site-packages\\numpy\\lib\\function_base.py:2387: RuntimeWarning: divide by zero encountered in <lambda> (vectorized)\n",
      "  outputs = ufunc(*inputs)\n"
     ]
    },
    {
     "name": "stdout",
     "output_type": "stream",
     "text": [
      "itr:0, cost:0.4793028941960385,accur:60.94\n",
      "itr:1, cost:0.3772659516298846,accur:76.65\n",
      "itr:2, cost:0.35626433292466797,accur:79.41\n",
      "itr:3, cost:0.333312697802578,accur:80.83\n",
      "itr:4, cost:0.316187563445906,accur:81.69\n",
      "itr:5, cost:0.3128906317281564,accur:82.47\n",
      "itr:6, cost:0.2967373898067703,accur:83.1\n",
      "itr:7, cost:0.28990477040001844,accur:83.36\n",
      "itr:8, cost:0.27934931340859653,accur:83.79\n",
      "itr:9, cost:0.27441369684158234,accur:84.07\n",
      "itr:10, cost:0.260652811219795,accur:84.43\n",
      "itr:11, cost:0.2468432947737871,accur:84.85\n",
      "itr:12, cost:0.26288187986296313,accur:85.04\n",
      "itr:13, cost:0.27353989502765735,accur:85.19\n",
      "itr:14, cost:0.2381244334327599,accur:85.44\n",
      "itr:15, cost:0.23531765075844815,accur:85.81\n",
      "itr:16, cost:0.24382556746436634,accur:85.94\n",
      "itr:17, cost:0.2218556304200963,accur:86.14\n",
      "itr:18, cost:0.2180420350017092,accur:86.44\n",
      "itr:19, cost:0.22691661131034102,accur:86.59\n",
      "itr:20, cost:0.23250978612119103,accur:86.66\n",
      "itr:21, cost:0.23613750413422113,accur:86.86\n",
      "itr:22, cost:0.24473700968361098,accur:87.15\n",
      "itr:23, cost:0.21271476831735295,accur:87.32\n",
      "itr:24, cost:0.2242901521089381,accur:87.42\n",
      "itr:25, cost:0.2061436898611339,accur:87.52\n",
      "itr:26, cost:0.19265716322764892,accur:87.63\n",
      "itr:27, cost:0.18279427740715498,accur:87.85\n",
      "itr:28, cost:0.18608848578959875,accur:88.19\n",
      "itr:29, cost:0.1824322679527712,accur:88.27\n",
      "itr:30, cost:0.2049274723935534,accur:88.13\n",
      "itr:31, cost:0.19305469834778127,accur:88.27\n",
      "itr:32, cost:0.17893450875036895,accur:88.48\n",
      "itr:33, cost:0.19292937963459322,accur:88.45\n",
      "itr:34, cost:0.20336261719357324,accur:88.59\n",
      "itr:35, cost:0.19576992188108314,accur:88.65\n",
      "itr:36, cost:0.18981714265836871,accur:88.83\n",
      "itr:37, cost:0.18841730069858414,accur:88.89\n",
      "itr:38, cost:0.19681198471582684,accur:88.97\n",
      "itr:39, cost:0.18397602148295988,accur:89.1\n",
      "itr:40, cost:0.19880653959365824,accur:89.08\n",
      "itr:41, cost:0.19457739704583538,accur:89.34\n",
      "itr:42, cost:0.21021902726328548,accur:89.27\n",
      "itr:43, cost:0.19040584382721287,accur:89.32\n",
      "itr:44, cost:0.17663257453767092,accur:89.47\n",
      "itr:45, cost:0.19541536056431932,accur:89.45\n",
      "itr:46, cost:0.18076430670663604,accur:89.7\n",
      "itr:47, cost:0.20231778474347625,accur:89.67\n",
      "itr:48, cost:0.189976190893995,accur:89.72\n",
      "itr:49, cost:0.19623236255218923,accur:89.91\n",
      "hls: 256; maxacc:89.91\n"
     ]
    }
   ],
   "source": [
    "from IPython.display import clear_output\n",
    "def train(X, y, hidden_nodes, epochs=1000, lr=1e-5):\n",
    "    \"\"\"\n",
    "    hidden_nodes: no. of nodes in hidden layer\n",
    "\n",
    "    should return the updated optimize weights.\n",
    "    \"\"\"\n",
    "\n",
    "    weights = init_params([(hidden_nodes,784),(numDigs,hidden_nodes)])\n",
    "    biases = init_bias([hidden_nodes,numDigs])\n",
    "    valToScores = lambda val:np.vectorize(lambda x: 1 if x==val else 0)\n",
    "    aranged = np.arange(10)#[1,2,...,10]\n",
    "    scoreArray  =np.apply_along_axis(\n",
    "        lambda y_elem:valToScores(y_elem)(aranged),\n",
    "        1,\n",
    "        y\n",
    "    )\n",
    "    # print(scoreArray[:10])\n",
    "    numbatches = 100\n",
    "    mbs = int(X.shape[0]/numbatches)\n",
    "    pltable=np.zeros((2,epochs))\n",
    "    # print(f'mbs:{mbs}')\n",
    "    #mini batch size\n",
    "    for i in range(epochs):\n",
    "        accs = []\n",
    "        for j in range(numbatches):\n",
    "            logits,z1,z2,a1,a2,probs = forward_propg(X[mbs*j:mbs*(j+1)],weights,biases)\n",
    "            cost,losses = cost_func(probs,scoreArray[mbs*j:mbs*(j+1)],[])\n",
    "            preds = np.apply_along_axis(\n",
    "                lambda x:np.argsort(x)[-1],\n",
    "                1,\n",
    "                probs)\n",
    "            # print(probs[:10])\n",
    "            acc = accuracy(preds,y[mbs*j:mbs*(j+1)].reshape(mbs))\n",
    "            accs.append(acc)\n",
    "            newweights, newbiases = backward_propg(weights,biases,X[mbs*j:mbs*(j+1)],scoreArray[mbs*j:mbs*(j+1)],[z1,a1,z2,a2],lr)\n",
    "            weights = newweights\n",
    "            biases = newbiases\n",
    "        pltable[0,i] = cost;pltable[1,i]=np.average(accs)\n",
    "        # if(i%5==0):\n",
    "        #     clear_output(wait=True)\n",
    "        #     # plt.plot(np.arange(epochs)[:i+1],pltable[0,:i+1],pltable[1,:i+1])\n",
    "        #     plt.plot(np.arange(epochs)[:i+1],pltable[0,:i+1])\n",
    "        #     plt.show()\n",
    "        print(f'itr:{i}, cost:{pltable[0,i]},accur:{pltable[1,i]}')\n",
    "            # print(i,)\n",
    "            # print cost at every 100 or so iterations\n",
    "        # backward propagation\n",
    "    print(f'hls: {hidden_nodes}; maxacc:{np.max(pltable[1,:])}')\n",
    "    return weights,biases,np.max(pltable[1,:])\n",
    "# maxaccs = []\n",
    "# for hlstmp in range(10,hidLaySize,5):\n",
    "    # maxaccs.append(train(X_train,Y_train,hidden_nodes=hlstmp,epochs=100)[1])\n",
    "w,b,max = train(X_train,Y_train,hidden_nodes=hidLaySize,epochs=50,lr=1e-1)\n",
    "\n",
    "# print(maxaccs)\n",
    "# print(np.unique(Y_train,return_counts=True)[1])"
   ]
  },
  {
   "cell_type": "code",
   "execution_count": 22,
   "metadata": {},
   "outputs": [
    {
     "name": "stdout",
     "output_type": "stream",
     "text": [
      "[(10, 15.0), (15, 15.0), (20, 13.0), (25, 12.0), (30, 12.0), (35, 7.0), (40, 13.0), (45, 19.0), (50, 12.0), (55, 13.0), (60, 10.0), (65, 6.0), (70, 17.0), (75, 12.0), (80, 15.0), (85, 12.0), (90, 13.0), (95, 11.0), (100, 18.0), (105, 12.0), (110, 10.0), (115, 4.0), (120, 10.0), (125, 14.0), (130, 16.0), (135, 11.0), (140, 10.0), (145, 13.0), (150, 13.0), (155, 9.0), (160, 12.0), (165, 8.0), (170, 11.0), (175, 13.0), (180, 8.0), (185, 13.0), (190, 22.0), (195, 15.0), (200, 13.0), (205, 14.0), (210, 14.0), (215, 11.0), (220, 17.0), (225, 15.0), (230, 9.0), (235, 10.0), (240, 11.0), (245, 9.0), (250, 11.0), (255, 22.0)]\n"
     ]
    }
   ],
   "source": [
    "# print((list(map(lambda z:(z[0]*5+10,z[1]),list(enumerate(maxaccs))))))"
   ]
  },
  {
   "cell_type": "code",
   "execution_count": 60,
   "metadata": {
    "id": "9XBinWpPmjOS"
   },
   "outputs": [
    {
     "name": "stdout",
     "output_type": "stream",
     "text": [
      "94.0\n"
     ]
    },
    {
     "name": "stderr",
     "output_type": "stream",
     "text": [
      "C:\\Users\\HARDIK RAJPAL\\AppData\\Local\\Temp\\ipykernel_46304\\3416355029.py:41: RuntimeWarning: divide by zero encountered in log\n",
      "  logits = np.vectorize(lambda x:np.log(abs(x/(1.001-x))))(a2)\n"
     ]
    }
   ],
   "source": [
    "tn = 1000\n",
    "def predict(X, updated_weights,biases):\n",
    "    _,_,_,_,_,probs=forward_propg(X,updated_weights,biases)\n",
    "    # print(probs.shape)\n",
    "    # np.savetxt('preds.csv',probs)\n",
    "    # np.savetxt('ans.csv',Y_test[:tn])\n",
    "    # for i in range(tn):\n",
    "    #     plt.scatter(np.arange(1,11),probs[i,:])\n",
    "    #     plt.xticks(np.arange(1,11))\n",
    "    #     plt.show()\n",
    "        # print(probs[i,:])\n",
    "        # print(np.argsort(probs[i,:]))\n",
    "    # print()\n",
    "    \n",
    "    return np.apply_along_axis(lambda x: np.argsort(x)[-1],1,probs)\n",
    "preds = predict(X_test[:tn],w,b)\n",
    "# print(preds.shape)\n",
    "print(accuracy(preds,Y_test[:tn]))"
   ]
  },
  {
   "cell_type": "markdown",
   "metadata": {
    "id": "fGVOZ8yg0VrV"
   },
   "source": [
    "### Save as pickle"
   ]
  },
  {
   "cell_type": "code",
   "execution_count": 63,
   "metadata": {},
   "outputs": [
    {
     "name": "stdout",
     "output_type": "stream",
     "text": [
      "94.0\n"
     ]
    },
    {
     "name": "stderr",
     "output_type": "stream",
     "text": [
      "C:\\Users\\HARDIK RAJPAL\\AppData\\Local\\Temp\\ipykernel_46304\\3416355029.py:41: RuntimeWarning: divide by zero encountered in log\n",
      "  logits = np.vectorize(lambda x:np.log(abs(x/(1.001-x))))(a2)\n"
     ]
    }
   ],
   "source": [
    "pklData2 = pickle.load(open('./model_200050048.pkl', 'rb'))\n",
    "hd = pklData2['z']\n",
    "w2 = [np.array(pklData2['layer_0_wt']).transpose(),np.array(pklData2['layer_1_wt']).transpose()]\n",
    "b2 = [np.array(pklData2['layer_0_bias']).flatten(),np.array(pklData2['layer_1_bias']).flatten()]\n",
    "preds = predict(X_test[:tn],w2,b2)\n",
    "print(accuracy(preds,Y_test[:tn]))"
   ]
  },
  {
   "cell_type": "code",
   "execution_count": 62,
   "metadata": {
    "colab": {
     "base_uri": "https://localhost:8080/",
     "height": 17
    },
    "id": "_lvDVwmxmjKX",
    "outputId": "02467c3f-b20f-44b7-8e3d-43e308028d17"
   },
   "outputs": [
    {
     "name": "stdout",
     "output_type": "stream",
     "text": [
      "(256, 784)\n"
     ]
    }
   ],
   "source": [
    "import pickle\n",
    "import random\n",
    "# from google.colab import files\n",
    "\n",
    "roll_num = \"200050048\" # enter ldap\n",
    "hidden_dim = hidLaySize # replace with your own hidden dimension\n",
    "\n",
    "model_dict = {\n",
    "    'z': hidden_dim, # hidden dimension of your model\n",
    "    'layer_0_wt': w[0].transpose(), # layer 0 weight (784, z)\n",
    "    'layer_0_bias': b[0].reshape((hidden_dim,1)), # layer 0 bias (z, 1)\n",
    "    'layer_1_wt': w[1].transpose(), # layer 1 weight (z, 10)\n",
    "    'layer_1_bias': b[1].reshape((10,1)) # layer 1 bias (10, 1)\n",
    "}\n",
    "print(w[0].shape)\n",
    "assert model_dict['layer_0_wt'].shape == (784, hidden_dim)\n",
    "assert model_dict['layer_0_bias'].shape == (hidden_dim, 1)\n",
    "assert model_dict['layer_1_wt'].shape == (hidden_dim, 10)\n",
    "assert model_dict['layer_1_bias'].shape == (10, 1)\n",
    "\n",
    "with open(f'model_{roll_num}.pkl', 'wb') as f:\n",
    "    pickle.dump(model_dict, f)\n",
    "    # files.download(f'model_{roll_num}.pkl') # download the file from the Colab session for submission"
   ]
  }
 ],
 "metadata": {
  "colab": {
   "collapsed_sections": [],
   "name": "CNN-lytical Assignment-1.ipynb",
   "provenance": []
  },
  "interpreter": {
   "hash": "298688196bc8e687415b66e58936d8aa4a9e739c7b4683a3c0ec1143ce8e53ab"
  },
  "kernelspec": {
   "display_name": "Python 3.10.2 64-bit",
   "language": "python",
   "name": "python3"
  },
  "language_info": {
   "codemirror_mode": {
    "name": "ipython",
    "version": 3
   },
   "file_extension": ".py",
   "mimetype": "text/x-python",
   "name": "python",
   "nbconvert_exporter": "python",
   "pygments_lexer": "ipython3",
   "version": "3.10.2"
  }
 },
 "nbformat": 4,
 "nbformat_minor": 1
}
