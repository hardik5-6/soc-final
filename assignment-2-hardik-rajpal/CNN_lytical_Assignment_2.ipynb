{
  "cells": [
    {
      "cell_type": "markdown",
      "metadata": {
        "id": "Xwo8D8V-uPsI"
      },
      "source": [
        "# CNN-lytical Assignment-2\n",
        "<center>\n",
        "<img src=\"https://encrypted-tbn0.gstatic.com/images?q=tbn:ANd9GcS7fZ0PJ4leQi4qtXR5Egv5YILqQqvzVSNtFg&usqp=CAU\">\n",
        "</center>\n",
        "\n",
        "*  In this assignment, we will build a classifier for MNIST from using [PyTorch](https://pytorch.org/docs/stable/index.html). \n",
        "\n",
        "*   We will be using the same dataset as the previous assignment for MNIST. **Do not** use the complete MNIST dataset, even though PyTorch makes it really easy.\n",
        "\n",
        "*   No limitations on your model this time, just don't use CNNs now, that's up next week.\n",
        "\n",
        "**Feel free to redefine any function signatures below, just make sure the final cell remains the same.**"
      ]
    },
    {
      "cell_type": "markdown",
      "metadata": {
        "id": "QQNvtQCE_j1Q"
      },
      "source": [
        "## Import libraries here\n",
        "PyTorch, NumPy, Matplotlib, ...\n",
        "Even when equipped with PyTorch, NumPy and Matplotlib make your work easier for visualization etc.\n",
        "\n",
        "Also remember to **initialize the seed** for reproducibility of results, both for NumPy & PyTorch."
      ]
    },
    {
      "cell_type": "code",
      "execution_count": 1,
      "metadata": {
        "id": "CnnyxVTxqpZB"
      },
      "outputs": [],
      "source": [
        "import torch as pt\n",
        "import numpy as np\n",
        "import pickle as pkl\n",
        "import matplotlib.pyplot as plt\n",
        "from torch.utils.data import DataLoader\n",
        "np.random.seed(0) "
      ]
    },
    {
      "cell_type": "markdown",
      "metadata": {
        "id": "D6dAe4V0_3zC"
      },
      "source": [
        "## Load *Dataset*\n",
        "Use the pickle file shared for the previous assignment here."
      ]
    },
    {
      "cell_type": "code",
      "execution_count": 18,
      "metadata": {},
      "outputs": [
        {
          "name": "stdout",
          "output_type": "stream",
          "text": [
            "torch.Size([60000, 784]) torch.Size([60000, 10])\n"
          ]
        }
      ],
      "source": [
        "data = pkl.load(open('train_data.pkl','rb'))\n",
        "# print(data.keys())\n",
        "X = pt.tensor(data['X']).float()\n",
        "y = pt.tensor(data['y']).float()\n",
        "valToScores = lambda val:np.vectorize(lambda x: 1 if x==val else 0)\n",
        "aranged = np.arange(10)#[1,2,...,10]\n",
        "scoreArray  =np.apply_along_axis(\n",
        "    lambda y_elem:valToScores(y_elem)(aranged),\n",
        "    1,\n",
        "    y\n",
        ")\n",
        "y=pt.from_numpy(scoreArray).float()\n",
        "print(X.shape,y.shape)\n",
        "k = 1024*32\n",
        "X_train = X[:k]\n",
        "Y_train = y[:k]\n",
        "X_test = X[k:2*k]\n",
        "Y_test = y[k:2*k]\n",
        "hls = 256\n",
        "imgdim = 784\n",
        "numdigs = 10"
      ]
    },
    {
      "cell_type": "code",
      "execution_count": 3,
      "metadata": {
        "id": "w4174DiUAUIJ"
      },
      "outputs": [
        {
          "data": {
            "image/png": "[encoded data removed]",
            "text/plain": [
              "<Figure size 432x288 with 16 Axes>"
            ]
          },
          "metadata": {},
          "output_type": "display_data"
        }
      ],
      "source": [
        "selection = np.random.choice(np.arange(X_train.shape[0]),size=16)\n",
        "selImages = X_train[selection].numpy()\n",
        "selLabels = Y_train[selection].numpy()\n",
        "fig,axs = plt.subplots(4,4)\n",
        "fig.tight_layout()\n",
        "from typing import List\n",
        "# axs:List[plt.Axes]\n",
        "# axs[0].imshow()\n",
        "for i in range(4):\n",
        "    for j in range(4):\n",
        "        axs[i,j].set_xticks([])\n",
        "        axs[i,j].set_yticks([])\n",
        "        axs[i,j].imshow(selImages[4*i+j].reshape(28,28),cmap='gray',vmin=-1,vmax=1)\n",
        "        axs[i,j].set_title(selLabels[4*i+j].argsort()[-1],color='blue')\n",
        "plt.show()"
      ]
    },
    {
      "cell_type": "markdown",
      "metadata": {
        "id": "ZjY5oNGRAK1e"
      },
      "source": [
        "## Creating a Dataset Class\n",
        "In PyTorch, there is existing implementation of batch-splitting. You don't need to do it manually over here. Instead, just define a Dataset class and a Dataloader wrapping it.\n",
        "\n",
        "A dataset class must have 3 functions - ```__init__```, ```__len__```, ```__getitem__```. Their names are pretty self-explanatory. You can read more about this [here](https://pytorch.org/tutorials/beginner/basics/data_tutorial.html).\n",
        "\n",
        "\n",
        "**Note** - Things like normalization, augmentation etc. which are related to the dataset are all done in this class. However, because this assignment doesn't deal with MNIST images but rather feature vectors, this part is being skipped here and will be discussed in Assignment 3."
      ]
    },
    {
      "cell_type": "code",
      "execution_count": 20,
      "metadata": {
        "id": "vifSrimqBGjH"
      },
      "outputs": [
        {
          "name": "stdout",
          "output_type": "stream",
          "text": [
            "torch.Size([27232, 10])\n",
            "\n"
          ]
        }
      ],
      "source": [
        "# define your dataset class\n",
        "class Dataset:\n",
        "    def __init__(self,X,Y):\n",
        "        self.X = X\n",
        "        self.Y = Y\n",
        "    def __len__(self):\n",
        "        return len(self.Y)\n",
        "    def __getitem__(self, i):\n",
        "        if(i<len(self.Y)):\n",
        "            return self.X[i],self.Y[i]\n",
        "train_data = Dataset(X_train,Y_train)\n",
        "test_data = Dataset(X_test,Y_test)\n",
        "print(Y_test.shape)\n",
        "trainDataLoader = DataLoader(train_data,batch_size=64,shuffle=True)\n",
        "testDataLoader = DataLoader(test_data,batch_size=50,shuffle=True)\n"
      ]
    },
    {
      "cell_type": "markdown",
      "metadata": {
        "id": "DOs6uifpBF8P"
      },
      "source": [
        "## ```nn.Module``` for your model\n",
        "In this segment, define a class for your model, it has to inherit from the ```nn.Module``` class. You must define two functions here - ```__init__``` and ```forward```, again pretty self-explanatory. Helper functions can also be implemented, your choice!\n",
        "\n",
        "Look into the following ```torch``` layers and combine them to form your network, you can find more [here](https://pytorch.org/docs/stable/nn.html) -\n",
        "- [```nn.Linear```](https://pytorch.org/docs/stable/generated/torch.nn.Linear.html)\n",
        "- [```nn.ReLU```](https://pytorch.org/docs/stable/generated/torch.nn.ReLU.html)\n",
        "- [```nn.BatchNorm1d```](https://pytorch.org/docs/stable/generated/torch.nn.BatchNorm1d.html)\n"
      ]
    },
    {
      "cell_type": "code",
      "execution_count": 5,
      "metadata": {
        "id": "6Mr6_5pzGRjp"
      },
      "outputs": [],
      "source": [
        "class MaNet(pt.nn.Module):\n",
        "    def __init__(self,imgdims,hdls,nmdigs):\n",
        "        super(MaNet,self).__init__()\n",
        "        self.linear1 = pt.nn.Linear(imgdims,hdls,bias=True)\n",
        "        self.relu1 = pt.nn.ReLU()\n",
        "        self.normalize1 = pt.nn.BatchNorm1d(hdls)\n",
        "        self.linear2 = pt.nn.Linear(hdls,nmdigs,bias=True)\n",
        "        self.relu2 = pt.nn.ReLU()\n",
        "        self.normalize2 = pt.nn.BatchNorm1d(nmdigs)\n",
        "    def forward(self,x):\n",
        "        x = self.linear1(x)\n",
        "        x = self.relu1(x)\n",
        "        x = self.normalize1(x)\n",
        "        x = self.linear2(x)\n",
        "        x = self.relu2(x)\n",
        "        x = self.normalize2(x)\n",
        "        return x\n"
      ]
    },
    {
      "cell_type": "markdown",
      "metadata": {
        "id": "tVTyirdELXlt"
      },
      "source": [
        "## Training loop\n",
        "You can write a training loop but usually writing it within a function helps so that you can train in multiple passes with just one function call if you still don't see convergence of the loss. ```display_step``` is for you to display results on the validation set (which you must not have trained upon).\n",
        "\n",
        "You will need to use ```zero_grad()```, ```backward()``` and multiple such functions here. Look for them in the tutorials given."
      ]
    },
    {
      "cell_type": "code",
      "execution_count": 6,
      "metadata": {
        "id": "z0BnrNm8LN5s"
      },
      "outputs": [],
      "source": [
        "def train(model:MaNet, optimizer:pt.optim.SGD, criterion, train_loader:DataLoader,epochs=100, display_step=None):\n",
        "    for i in range(epochs):\n",
        "        lossData = []\n",
        "        for j,data in enumerate(train_loader,0):\n",
        "            indata,target = data\n",
        "            # print(indata,type(indata))\n",
        "            optimizer.zero_grad()\n",
        "            output = model(indata)\n",
        "            loss = criterion(output,target)\n",
        "            lossData.append(loss.item())\n",
        "            model.zero_grad()\n",
        "            loss.backward()\n",
        "            optimizer.step()\n",
        "        print(np.average(lossData))\n",
        "    return lossData,model\n"
      ]
    },
    {
      "cell_type": "markdown",
      "metadata": {
        "id": "g319ipPXMh0R"
      },
      "source": [
        "## Initialize weights\n",
        "Write a small function to initialize weights for your model. You don't need to do it individually for each layer, there are ways to do it in a simple ```for``` loop."
      ]
    },
    {
      "cell_type": "code",
      "execution_count": 7,
      "metadata": {
        "id": "GRqqKNLZMjDe"
      },
      "outputs": [],
      "source": [
        "def init_weights():\n",
        "    pass"
      ]
    },
    {
      "cell_type": "markdown",
      "metadata": {
        "id": "ivuHRGtfN3sE"
      },
      "source": [
        "## Prediction & Accuracy\n",
        "Prediction function should predict outputs using your trained model for a given **NumPy array** ```X_test``` and the output should be another **NumPy array**.\n",
        "\n",
        "The accuracy function would be the same as before."
      ]
    },
    {
      "cell_type": "code",
      "execution_count": 8,
      "metadata": {
        "id": "cPX1q_0AN3ZV"
      },
      "outputs": [],
      "source": [
        "def predict(model, X_test):\n",
        "    output = model(X_test)\n",
        "    return output"
      ]
    },
    {
      "cell_type": "code",
      "execution_count": 9,
      "metadata": {
        "id": "_nKROVpWOa6j"
      },
      "outputs": [],
      "source": [
        "def accuracy(pred, labels):\n",
        "    labelsFlat = labels.numpy().argsort(axis=1)[:,-1].transpose()\n",
        "    return np.round(100*np.where(\n",
        "            labelsFlat\n",
        "            ==\n",
        "            pred.detach().numpy().argsort(axis=1)[:,-1]\n",
        "            )[0].shape[0]/labelsFlat.shape[0])"
      ]
    },
    {
      "cell_type": "markdown",
      "metadata": {
        "id": "8aA1EWZmMbQe"
      },
      "source": [
        "## Actually training your model\n",
        "- Create a model, initialize it. Define optimizer for the model as well as loss criterion (you can actually set the seed here again, just in case you did some ```rand``` calls above for testing your functions).\n",
        "- Define an instance of the dataset class, wrap it in a dataloader.\n",
        "- Call the train function and train your model!\n"
      ]
    },
    {
      "cell_type": "code",
      "execution_count": 12,
      "metadata": {
        "id": "F8JG_XURNLmr"
      },
      "outputs": [
        {
          "name": "stdout",
          "output_type": "stream",
          "text": [
            "0.29918045028171036\n",
            "0.05449119066543062\n",
            "0.027351877261025948\n",
            "0.023271281042980263\n"
          ]
        }
      ],
      "source": [
        "model = MaNet(imgdim,hls,numdigs)\n",
        "optimizer = pt.optim.SGD(model.parameters(),lr=0.01)\n",
        "criterion = pt.nn.MSELoss()\n",
        "lossdata, newModel= train(model,optimizer,criterion,trainDataLoader,epochs=2)\n",
        "# lossdata, newModel= train(newModel,optimizer,criterion,trainDataLoader,epochs=2)\n"
      ]
    },
    {
      "cell_type": "markdown",
      "metadata": {
        "id": "OQsiK0-COe6E"
      },
      "source": [
        "## Run your model for the validation dataset\n",
        "Use your trained model to get predictions for the validation dataset you split earlier."
      ]
    },
    {
      "cell_type": "code",
      "execution_count": 19,
      "metadata": {
        "id": "i_B_NUjUOq3c"
      },
      "outputs": [
        {
          "name": "stdout",
          "output_type": "stream",
          "text": [
            "torch.Size([50, 10]) <class 'torch.Tensor'>\n",
            "Loss on 0 test Data:0.028005382046103477; Acc:86.0\n"
          ]
        }
      ],
      "source": [
        "i = 0\n",
        "for j,data in enumerate(testDataLoader):\n",
        "        testd,testlabs= data\n",
        "        print(testlabs.size(),type(testlabs))\n",
        "        output = predict(newModel,testd)\n",
        "        loss = pt.nn.MSELoss()(output,testlabs)\n",
        "        acc = accuracy(output,testlabs)\n",
        "        print(f\"Loss on {j} test Data:{loss.item()}; Acc:{acc}\")\n",
        "        i+=1\n",
        "        break"
      ]
    },
    {
      "cell_type": "markdown",
      "metadata": {
        "id": "0f4W_facj-PA"
      },
      "source": [
        "## Submission\n",
        "To submit your solution, you will need to make a file with name ```model.py``` containing imports necessary to write the model class and the model class itself. It shouldn't do anything else when run. Other than this, save the trained model in a file named ```ass_2.pt```. When you are done with the assignment, commit the updated notebook, the ```model.py``` class file and the ```ass_2.pt``` model-weights file to the repository."
      ]
    },
    {
      "cell_type": "code",
      "execution_count": 74,
      "metadata": {
        "id": "7tknYAy1j92M"
      },
      "outputs": [],
      "source": [
        "# from google.colab import files\n",
        "pt.save(newModel, 'ass_2.pt')\n",
        "# files.download('ass_2.pt') # download the file from the Colab session for submission"
      ]
    },
    {
      "cell_type": "markdown",
      "metadata": {
        "id": "flMRBW9Akhkg"
      },
      "source": [
        "Check if it got saved right!"
      ]
    },
    {
      "cell_type": "code",
      "execution_count": 75,
      "metadata": {
        "id": "-wA9nHzYkj1R"
      },
      "outputs": [
        {
          "name": "stdout",
          "output_type": "stream",
          "text": [
            "98.0\n"
          ]
        }
      ],
      "source": [
        "# load the model, use predict function\n",
        "model = pt.load('ass_2.pt')\n",
        "for data in testDataLoader:\n",
        "    testB1,testL1 = data\n",
        "    output = predict(newModel,testB1)\n",
        "    acc = accuracy(output,testL1)\n",
        "    print(acc)\n",
        "    break"
      ]
    }
  ],
  "metadata": {
    "colab": {
      "collapsed_sections": [],
      "name": "CNN-lytical Assignment-2.ipynb",
      "provenance": []
    },
    "interpreter": {
      "hash": "298688196bc8e687415b66e58936d8aa4a9e739c7b4683a3c0ec1143ce8e53ab"
    },
    "kernelspec": {
      "display_name": "Python 3.10.2 64-bit",
      "language": "python",
      "name": "python3"
    },
    "language_info": {
      "codemirror_mode": {
        "name": "ipython",
        "version": 3
      },
      "file_extension": ".py",
      "mimetype": "text/x-python",
      "name": "python",
      "nbconvert_exporter": "python",
      "pygments_lexer": "ipython3",
      "version": "3.10.2"
    }
  },
  "nbformat": 4,
  "nbformat_minor": 0
}
